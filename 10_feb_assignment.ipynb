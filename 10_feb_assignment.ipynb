{
 "cells": [
  {
   "cell_type": "code",
   "execution_count": 1,
   "id": "fd66a643-b98b-4b21-bf8a-a301368c8d83",
   "metadata": {},
   "outputs": [],
   "source": [
    "#Q1. Which function is used to open a file? What are the different modes of opening a file? Explain each mode of file opening."
   ]
  },
  {
   "cell_type": "code",
   "execution_count": 2,
   "id": "6fc55882-844c-4444-9408-fbf2ad20bc8a",
   "metadata": {},
   "outputs": [
    {
     "name": "stdout",
     "output_type": "stream",
     "text": [
      "\u0001\u0002\u0003\n"
     ]
    }
   ],
   "source": [
    "\"\"\" The open() function is used to open a file in Python. It takes two arguments: the name of the file to be opened,\n",
    "    and the mode in which the file should be opened.\n",
    "    \n",
    "    'r': read mode - The file is opened for reading. This is the default mode if no mode is specified. If the file does not exist,\n",
    "    an error will be raised.\n",
    "\n",
    "    'w': write mode - The file is opened for writing. If the file does not exist, it will be created. If it already exists,\n",
    "    its contents will be truncated.\n",
    "\n",
    "    'a': append mode - The file is opened for writing, but data is appended to the end of the file instead of overwriting \n",
    "    its contents. If the file does not exist, it will be created.\n",
    "\n",
    "    'b': binary mode - The file is opened in binary mode. This is used for reading or writing binary data such as images, audio files, or binary network protocols.\n",
    "\n",
    "    't': text mode - The file is opened in text mode. This is used for reading or writing text files, which are files that contain only printable characters. \"\"\"\n",
    "\n",
    "# read mode\n",
    "with open(\"example.txt\", \"r\") as file:\n",
    "    contents = file.read()\n",
    "    print(contents)\n",
    "\n",
    "# write mode\n",
    "with open(\"example.txt\", \"w\") as file:\n",
    "    file.write(\"This is some text that will be written to the file.\")\n",
    "\n",
    "# append mode\n",
    "with open(\"example.txt\", \"a\") as f:\n",
    "    f.write(\"This is some text that will be appended to the file.\")\n",
    "\n",
    "# binary mode\n",
    "with open(\"example.txt\", \"wb\") as f:\n",
    "    f.write(b\"\\x01\\x02\\x03\")\n",
    "\n",
    "# text mode\n",
    "with open(\"example.txt\", \"rt\") as f:\n",
    "    f.read()\n"
   ]
  },
  {
   "cell_type": "code",
   "execution_count": 3,
   "id": "0c064ff7-b0c7-448b-be70-b3d590112a9b",
   "metadata": {},
   "outputs": [],
   "source": [
    "#Q2. Why close() function is used? Why is it important to close a file?"
   ]
  },
  {
   "cell_type": "code",
   "execution_count": 4,
   "id": "92b0c9ae-f39c-49b7-8476-36a256978f35",
   "metadata": {},
   "outputs": [],
   "source": [
    "\"\"\" The close() function is used to close a file after it has been opened and used for file I/O operations in Python.\n",
    "    It is important to close a file after it has been used to free up system resources and ensure that the file is\n",
    "    in a consistent state.\"\"\"\n",
    "\n",
    "file = open(\"example.txt\", \"r\")\n",
    "contents = file.read()\n",
    "file.close()\n"
   ]
  },
  {
   "cell_type": "code",
   "execution_count": 5,
   "id": "e713a8fc-f0fb-43df-8669-06c8e7e008b1",
   "metadata": {},
   "outputs": [],
   "source": [
    "#Q3. Write a python program to create a text file. Write ‘I want to become a Data Scientist’ in that file. Then\n",
    "#    close the file. Open this file and read the content of the file."
   ]
  },
  {
   "cell_type": "code",
   "execution_count": 6,
   "id": "f14a7cec-4f13-4ca2-b272-6b1b28e47072",
   "metadata": {},
   "outputs": [],
   "source": [
    "# create and write to file\n",
    "with open(\"data_scientist.txt\", \"w\") as f:\n",
    "    f.write(\"I want to become a Data Scientist\")\n",
    "\n",
    "# read from file\n",
    "with open(\"data_scientist.txt\", \"r\") as f:\n",
    "    f.read()"
   ]
  },
  {
   "cell_type": "code",
   "execution_count": 7,
   "id": "88c60681-9c94-4398-9373-f642c6973c06",
   "metadata": {},
   "outputs": [],
   "source": [
    "#Q4. Explain the following with python code: read(), readline() and readlines()."
   ]
  },
  {
   "cell_type": "code",
   "execution_count": 8,
   "id": "ed07cbbb-3b75-4b65-a24d-134da8e9810e",
   "metadata": {},
   "outputs": [],
   "source": [
    "\"\"\" read(): This method reads the entire contents of a file into a string variable.\"\"\"\n",
    "\n",
    "with open('example.txt', 'r') as file:\n",
    "    file.read()\n",
    "\n",
    "\"\"\" readline(): This method reads a single line from a file and returns it as a string. \"\"\"\n",
    "with open('example.txt', 'r') as file:\n",
    "    file.readline()\n",
    "    file.readline()\n",
    "\n",
    "\"\"\" readlines(): This method reads all of the lines from a file and returns them as a list of strings \"\"\"\n",
    "\n",
    "with open('example.txt', 'r') as file:\n",
    "    file.readlines()\n",
    "    \n"
   ]
  },
  {
   "cell_type": "code",
   "execution_count": 9,
   "id": "59d7d4d4-6826-4e08-b909-41951d96a234",
   "metadata": {},
   "outputs": [],
   "source": [
    "#Q5. Explain why with statement is used with open(). What is the advantage of using with statement and open() together?"
   ]
  },
  {
   "cell_type": "code",
   "execution_count": 10,
   "id": "e048a53d-eb3a-4955-b48a-962766c5b406",
   "metadata": {},
   "outputs": [
    {
     "name": "stdout",
     "output_type": "stream",
     "text": [
      "\u0001\u0002\u0003\n"
     ]
    }
   ],
   "source": [
    "\"\"\" The with statement is used with the open() function in Python for file I/O operations. It is a context manager\n",
    "    that provides a convenient way to manage resources, such as files, sockets, and database connections.\"\"\"\n",
    "with open(\"example.txt\", \"r\") as file:\n",
    "    contents = file.read()\n",
    "    print(contents)\n"
   ]
  },
  {
   "cell_type": "code",
   "execution_count": 11,
   "id": "2ea14a7e-519b-4280-b1d2-1dc145036d09",
   "metadata": {},
   "outputs": [],
   "source": [
    "#Q6. Explain the write() and writelines() functions. Give a suitable example."
   ]
  },
  {
   "cell_type": "code",
   "execution_count": 12,
   "id": "6e7509ef-5bb3-4c4b-a8c4-94c7964d7e94",
   "metadata": {},
   "outputs": [],
   "source": [
    "\"\"\" The write() function is used to write a string to a file. It takes a string as its parameter and writes it to the file. If the file already exists,\n",
    "    the write() function will overwrite its contents. If the file does not exist, it will be created.\"\"\"\n",
    "\n",
    "with open(\"example.txt\", \"w\") as file:\n",
    "    file.write(\"This is an example sentence.\")\n",
    "\n",
    "\"\"\" The writelines() function is used to write a list of strings to a file. It takes a list of strings as its parameter and writes each string to the file.\n",
    "    It does not add any line breaks between the strings, so if line breaks are desired, they must be included in the strings themselves.\"\"\"    \n",
    "\n",
    "lines = [\"This is the first line.\", \"This is the second line.\", \"This is the third line.\"]\n",
    "\n",
    "with open(\"example.txt\", \"w\") as file:\n",
    "    file.writelines(lines)\n"
   ]
  },
  {
   "cell_type": "code",
   "execution_count": null,
   "id": "d468d4ea-de8c-4ec8-b647-5d4d97e124a5",
   "metadata": {},
   "outputs": [],
   "source": []
  }
 ],
 "metadata": {
  "kernelspec": {
   "display_name": "Python 3 (ipykernel)",
   "language": "python",
   "name": "python3"
  },
  "language_info": {
   "codemirror_mode": {
    "name": "ipython",
    "version": 3
   },
   "file_extension": ".py",
   "mimetype": "text/x-python",
   "name": "python",
   "nbconvert_exporter": "python",
   "pygments_lexer": "ipython3",
   "version": "3.10.8"
  }
 },
 "nbformat": 4,
 "nbformat_minor": 5
}
